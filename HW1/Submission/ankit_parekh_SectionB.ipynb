{
  "cells": [
    {
      "cell_type": "markdown",
      "metadata": {
        "id": "cc8gZLT6WX7m"
      },
      "source": [
        "# CS-5824 / Advanced Machine Learning\n",
        "# Assignment 1 Section B [ 40 Points ]"
      ]
    },
    {
      "cell_type": "markdown",
      "metadata": {
        "id": "7isVWMS9WX7p"
      },
      "source": [
        "In this assignment, **you need to complete three sections** which are based on:\n",
        "\n",
        "1. Logistic regression\n",
        "2. MLE\n",
        "3. Evaluation"
      ]
    },
    {
      "cell_type": "markdown",
      "metadata": {
        "id": "Yxhzck1aWX7q"
      },
      "source": [
        "## Submission guideline\n",
        "\n",
        "1. Click the Save button at the top of the Jupyter Notebook.\n",
        "2. Please make sure to have entered your Virginia Tech PID below.\n",
        "3. Select Edit -> Clear All Output. This will clear all the outputs from all cells (but will keep the content of ll cells).\n",
        "4. Select Runtime -> Restart and Run All. This will run all the cells in order.\n",
        "5. Once you've rerun everything, select File -> Print -> Save as PDF\n",
        "6. Look at the PDF file and make sure all your solutions are there, displayed correctly. \n",
        "7. Upload **both** the PDF file and this notebook.\n",
        "8. Please **DO NOT** upload any data."
      ]
    },
    {
      "cell_type": "markdown",
      "metadata": {
        "id": "5NM7VD6NWX7r"
      },
      "source": [
        "### Please Write Your VT PID Here: ankitparekh"
      ]
    },
    {
      "cell_type": "markdown",
      "metadata": {
        "id": "G7vN9PE-ZFvg"
      },
      "source": [
        "# Section 0. Environment Set Up"
      ]
    },
    {
      "cell_type": "code",
      "execution_count": 1,
      "metadata": {
        "id": "B8HcRjRUYktI",
        "colab": {
          "base_uri": "https://localhost:8080/"
        },
        "outputId": "1204ea57-f951-4f9d-e106-208d6a061371"
      },
      "outputs": [
        {
          "output_type": "stream",
          "name": "stdout",
          "text": [
            "Looking in indexes: https://pypi.org/simple, https://us-python.pkg.dev/colab-wheels/public/simple/\n",
            "Requirement already satisfied: scipy==1.1.0 in /usr/local/lib/python3.7/dist-packages (1.1.0)\n",
            "Requirement already satisfied: Pillow==4.3.0 in /usr/local/lib/python3.7/dist-packages (4.3.0)\n",
            "Requirement already satisfied: numpy>=1.8.2 in /usr/local/lib/python3.7/dist-packages (from scipy==1.1.0) (1.21.6)\n",
            "Requirement already satisfied: olefile in /usr/local/lib/python3.7/dist-packages (from Pillow==4.3.0) (0.46)\n"
          ]
        }
      ],
      "source": [
        "!pip install scipy==1.1.0 Pillow==4.3.0"
      ]
    },
    {
      "cell_type": "markdown",
      "metadata": {
        "id": "_Pja5zjFXwTp"
      },
      "source": [
        "Mount your google drive in google colab"
      ]
    },
    {
      "cell_type": "code",
      "execution_count": 2,
      "metadata": {
        "id": "mdVPU9EUXvij",
        "colab": {
          "base_uri": "https://localhost:8080/"
        },
        "outputId": "6bce4829-642e-49c5-c29d-8aa08d92f1ae"
      },
      "outputs": [
        {
          "output_type": "stream",
          "name": "stdout",
          "text": [
            "Drive already mounted at /content/gdrive/; to attempt to forcibly remount, call drive.mount(\"/content/gdrive/\", force_remount=True).\n"
          ]
        }
      ],
      "source": [
        "from google.colab import drive\n",
        "drive.mount('/content/gdrive/')"
      ]
    },
    {
      "cell_type": "markdown",
      "metadata": {
        "id": "vg6RLG8AX73v"
      },
      "source": [
        "Append the directory to your python path using sys"
      ]
    },
    {
      "cell_type": "code",
      "execution_count": 3,
      "metadata": {
        "id": "HwSblWSIX-qM"
      },
      "outputs": [],
      "source": [
        "import sys\n",
        "prefix = '/content/gdrive/My Drive/'\n",
        "# modify \"customized_path_to_your_homework\" here to where you uploaded your homework\n",
        "customized_path_to_your_homework = 'ECE_5424_AML/HW1/'\n",
        "sys_path = prefix + customized_path_to_your_homework\n",
        "sys.path.append(sys_path)"
      ]
    },
    {
      "cell_type": "markdown",
      "metadata": {
        "id": "Shi_GW74rBGx"
      },
      "source": [
        "Run some setup code for this notebook."
      ]
    },
    {
      "cell_type": "code",
      "execution_count": 4,
      "metadata": {
        "id": "HNkFUWI8WX7u"
      },
      "outputs": [],
      "source": [
        "from __future__ import print_function\n",
        "import random\n",
        "import numpy as np\n",
        "import matplotlib.pyplot as plt\n",
        "\n",
        "# This is a bit of magic to make matplotlib figures appear inline in the notebook rather than in a new window.\n",
        "%matplotlib inline\n",
        "plt.rcParams['figure.figsize'] = (10.0, 8.0) # set default size of plots\n",
        "plt.rcParams['image.interpolation'] = 'nearest'\n",
        "plt.rcParams['image.cmap'] = 'gray'\n",
        "\n",
        "# Some more magic so that the notebook will reload external python modules;\n",
        "# see http://stackoverflow.com/questions/1907993/autoreload-of-modules-in-ipython\n",
        "%load_ext autoreload\n",
        "%autoreload 2"
      ]
    },
    {
      "cell_type": "markdown",
      "metadata": {
        "id": "whfPbRDScOBs"
      },
      "source": [
        "## Section 1. Logistic Regression [ 18 points ]\n",
        "\n",
        "In this problem, we’ll apply logistic regression to a data set of spam email. \n",
        "This data consists of 4601 email messages, from which 57 features have been extracted. These are as follows:\n",
        "- 48 features in [0, 100], giving the percentage of words in a given message which match a given\n",
        "word on a list containing, e.g., “business”, “free”, etc.\n",
        "- 6 features in [0, 100], giving the percentage of characters in the email that match characters on a\n",
        "list containing, e.g., “$”, “#”, etc.\n",
        "- Feature 55: The average length of an uninterrupted sequence of capital letters.\n",
        "- Feature 56: The length of the longest uninterrupted sequence of capital letters.\n",
        "- Feature 57: The sum of the lengths of uninterrupted sequences of capital letters.\n",
        "\n",
        "\n",
        "There are files spam.train.dat and spam.test.dat (provided in the assignment files) in which\n",
        "each row is an email. There are 3000 training and 1601 test examples. The final column in each file\n",
        "indicates whether the email was spam.\n",
        "\n",
        "The files can be loaded using the block of code below. You will answer the following questions using the data provided. "
      ]
    },
    {
      "cell_type": "code",
      "execution_count": 5,
      "metadata": {
        "id": "Y88kiOiTcwKm",
        "colab": {
          "base_uri": "https://localhost:8080/"
        },
        "outputId": "cdb0dd01-f7e8-4c03-f328-263220dc2f1a"
      },
      "outputs": [
        {
          "output_type": "execute_result",
          "data": {
            "text/plain": [
              "array([[0.00e+00, 0.00e+00, 0.00e+00, ..., 3.20e+01, 9.10e+02, 0.00e+00],\n",
              "       [0.00e+00, 0.00e+00, 0.00e+00, ..., 7.00e+00, 4.50e+01, 0.00e+00],\n",
              "       [0.00e+00, 0.00e+00, 0.00e+00, ..., 3.00e+00, 7.00e+00, 0.00e+00],\n",
              "       ...,\n",
              "       [2.00e-01, 0.00e+00, 2.00e-01, ..., 6.30e+01, 5.45e+02, 0.00e+00],\n",
              "       [0.00e+00, 0.00e+00, 0.00e+00, ..., 2.80e+01, 1.07e+02, 1.00e+00],\n",
              "       [0.00e+00, 0.00e+00, 5.60e-01, ..., 2.20e+01, 2.37e+02, 1.00e+00]])"
            ]
          },
          "metadata": {},
          "execution_count": 5
        }
      ],
      "source": [
        "prefix = '/content/gdrive/My Drive/'\n",
        "# modify \"customized_path_to_your_homework\" here to where your data is\n",
        "customized_path_to_your_homework = 'ECE_5424_AML/HW1/'\n",
        "train_path = prefix + customized_path_to_your_homework + 'data/spam.train.dat'\n",
        "train_set = np.genfromtxt(train_path)\n",
        "train_set"
      ]
    },
    {
      "cell_type": "markdown",
      "metadata": {
        "id": "wIM0eb1he8K2"
      },
      "source": [
        "### Question 1. [ 3 points ]\n",
        "\n",
        "Build a Logistic Regression model to classify whether an email is spam or not using the *spam* data set. Report your training and test performance."
      ]
    },
    {
      "cell_type": "code",
      "execution_count": 6,
      "metadata": {
        "id": "Iqd_VTJuf5jz",
        "colab": {
          "base_uri": "https://localhost:8080/"
        },
        "outputId": "710b0489-aedf-4634-f80b-85079a960cf2"
      },
      "outputs": [
        {
          "output_type": "stream",
          "name": "stderr",
          "text": [
            "/usr/local/lib/python3.7/dist-packages/sklearn/linear_model/_logistic.py:818: ConvergenceWarning: lbfgs failed to converge (status=1):\n",
            "STOP: TOTAL NO. of ITERATIONS REACHED LIMIT.\n",
            "\n",
            "Increase the number of iterations (max_iter) or scale the data as shown in:\n",
            "    https://scikit-learn.org/stable/modules/preprocessing.html\n",
            "Please also refer to the documentation for alternative solver options:\n",
            "    https://scikit-learn.org/stable/modules/linear_model.html#logistic-regression\n",
            "  extra_warning_msg=_LOGISTIC_SOLVER_CONVERGENCE_MSG,\n"
          ]
        }
      ],
      "source": [
        "#Build your model\n",
        "\n",
        "# Importing required sklearn modules\n",
        "from sklearn.linear_model import LogisticRegression\n",
        "from sklearn.preprocessing import StandardScaler\n",
        "\n",
        "# Creating training dataset by assigning the last column to the labels (Y)\n",
        "x_train, y_train = train_set[:,:-1],train_set[:,-1]\n",
        "\n",
        "#Tranforming training data and training model\n",
        "scaler = StandardScaler()\n",
        "x_train = scaler.fit_transform(x_train)\n",
        "model = LogisticRegression(random_state=0,penalty='none').fit(x_train, y_train)"
      ]
    },
    {
      "cell_type": "code",
      "execution_count": 7,
      "metadata": {
        "id": "wy-OYYh9jigk",
        "colab": {
          "base_uri": "https://localhost:8080/"
        },
        "outputId": "4639ed40-0309-4c43-c055-235b3d4389e7"
      },
      "outputs": [
        {
          "output_type": "stream",
          "name": "stdout",
          "text": [
            "Training Accuracy:  93.46666666666667  %\n",
            "Testing Accuracy:  92.0049968769519  %\n"
          ]
        }
      ],
      "source": [
        "#Report training and test performance here\n",
        "\n",
        "# Loading test data \n",
        "test_path = prefix + customized_path_to_your_homework + 'data/spam.test.dat'\n",
        "test_set = np.genfromtxt(test_path)\n",
        "x_test, y_test = test_set[:,:-1],test_set[:,-1]\n",
        "x_test = scaler.transform(x_test)\n",
        "\n",
        "# Training Accuracy\n",
        "train_accuracy = model.score(x_train, y_train)*100\n",
        "print(\"Training Accuracy: \", train_accuracy, \" %\")\n",
        "\n",
        "#Testing the model\n",
        "test_accuracy = model.score(x_test, y_test)*100\n",
        "print(\"Testing Accuracy: \", test_accuracy, \" %\")\n"
      ]
    },
    {
      "cell_type": "markdown",
      "metadata": {
        "id": "APUOMYTGgHCv"
      },
      "source": [
        "### Question 2. [ 3 points ]\n",
        "\n",
        "Plot the learning curve for this model. What is the Bias/Variance trade-off for this model ?"
      ]
    },
    {
      "cell_type": "code",
      "execution_count": 8,
      "metadata": {
        "id": "Muh9NYKxgmMu",
        "colab": {
          "base_uri": "https://localhost:8080/",
          "height": 530
        },
        "outputId": "98eda3db-9069-4332-ccb7-c60e29afcbea"
      },
      "outputs": [
        {
          "output_type": "execute_result",
          "data": {
            "text/plain": [
              "<matplotlib.legend.Legend at 0x7feecf01bcd0>"
            ]
          },
          "metadata": {},
          "execution_count": 8
        },
        {
          "output_type": "display_data",
          "data": {
            "text/plain": [
              "<Figure size 720x576 with 1 Axes>"
            ],
            "image/png": "[encoded data removed]"
          },
          "metadata": {
            "needs_background": "light"
          }
        }
      ],
      "source": [
        "#Plot the learning curve\n",
        "\n",
        "# Gathering training and validation scores using the learning_curve method\n",
        "from sklearn.model_selection import learning_curve\n",
        "\n",
        "train_sizes, train_scores, val_scores = learning_curve(\n",
        "        LogisticRegression(random_state=0,penalty='none'),\n",
        "        x_train,\n",
        "        y_train,\n",
        "        scoring='accuracy',\n",
        "        cv=10,\n",
        "        n_jobs=-1,\n",
        "        train_sizes=np.linspace(0.1, 1.0, 5)\n",
        "    )\n",
        "\n",
        "# Computing mean and standard deviations for the scores\n",
        "train_scores_avg = train_scores.mean(axis = 1)\n",
        "val_scores_avg = val_scores.mean(axis = 1)\n",
        "\n",
        "train_scores_std = np.std(train_scores, axis=1)\n",
        "val_scores_std = np.std(val_scores, axis=1)\n",
        "\n",
        "# Plotting the learning curve\n",
        "import matplotlib.pyplot as plt\n",
        "\n",
        "plt.plot(\n",
        "    train_sizes, train_scores_avg, \"o-\", color=\"r\", markersize=5, label=\"Training score\")\n",
        "plt.fill_between(train_sizes,\n",
        "    train_scores_avg - train_scores_std,\n",
        "    train_scores_avg + train_scores_std,\n",
        "    alpha=0.1,\n",
        "    color=\"r\",)\n",
        "plt.plot(\n",
        "    train_sizes, val_scores_avg, \"o-\", color=\"g\", markersize=5, label=\"Validation score\")\n",
        "plt.fill_between(\n",
        "    train_sizes,\n",
        "    val_scores_avg - val_scores_std,\n",
        "    val_scores_avg + val_scores_std,\n",
        "    alpha=0.1,\n",
        "    color=\"g\",)\n",
        "plt.title(\"Logistic Regression Learning Curve\")\n",
        "plt.xlabel(\"Training examples\")\n",
        "plt.ylabel(\"Score\")\n",
        "plt.grid()\n",
        "plt.legend(loc=\"best\")"
      ]
    },
    {
      "cell_type": "code",
      "execution_count": 9,
      "metadata": {
        "id": "SVr3IIaUjrQk"
      },
      "outputs": [],
      "source": [
        "#Comment on the Bias/Variance trade-off"
      ]
    },
    {
      "cell_type": "markdown",
      "source": [
        "Intially when the training sample size is less than 1000, the training accuracy is very high (model is fitting well on less number of data points) and validation accuracy is very low, which suggests the model is overfitting. The model has high variance and low bias. \n",
        "\n",
        "But as we increase the training sample size ( from training sample size of 1000 till 2500), we see a gradual decrease in difference between train and validation accuracy, and the model starting to exhibit lower variance and higher bias than before. The region where the training accuracy and validation accuracy have the lowest difference is optimal for the bias-variance tradeoff and the model is fitting well on the dataset."
      ],
      "metadata": {
        "id": "v_n2PRYKBzg6"
      }
    },
    {
      "cell_type": "markdown",
      "metadata": {
        "id": "KOH01r2BgvMF"
      },
      "source": [
        "### Question 3. [ 3 points ]\n",
        "\n",
        "Apply L2-regularized logistic regression. Use cross-validation to determine an appropriate regularization penalty. Report your procedure and the value you find. What training and test performance do you get with this value?"
      ]
    },
    {
      "cell_type": "code",
      "execution_count": 10,
      "metadata": {
        "id": "gupzh2L8g0xI"
      },
      "outputs": [],
      "source": [
        "#Apply L2-regularized logistic regression\n",
        "from sklearn.model_selection import train_test_split\n",
        "x_train, y_train = train_set[:,:-1],train_set[:,-1]\n",
        "scaler = StandardScaler()\n",
        "x_train = scaler.fit_transform(x_train)"
      ]
    },
    {
      "cell_type": "code",
      "execution_count": 11,
      "metadata": {
        "id": "mDgIrxlIj4OP",
        "colab": {
          "base_uri": "https://localhost:8080/"
        },
        "outputId": "9d6f9c04-a484-42c1-de38-39bb1f67fd8d"
      },
      "outputs": [
        {
          "output_type": "stream",
          "name": "stdout",
          "text": [
            "Fitting 10 folds for each of 10 candidates, totalling 100 fits\n",
            "Estimator with highest score (best_estimator): LogisticRegression(C=0.8, max_iter=1000, random_state=0, solver='liblinear')\n",
            "Mean cross-validated score with the best_estimator:  0.9269999999999999\n",
            "Parameter value for best score:  {'C': 0.8}\n"
          ]
        }
      ],
      "source": [
        "#Perform cross-validation \n",
        "from sklearn.model_selection import GridSearchCV\n",
        "hyperparams = {'C':[x*0.1 for x in range(1,11)]}\n",
        "gridSearch = GridSearchCV(LogisticRegression(random_state=0,penalty='l2',max_iter=1000,solver='liblinear'),hyperparams,scoring='accuracy',n_jobs=-1,cv=10,verbose=True)\n",
        "gridSearch = gridSearch.fit(x_train,y_train)\n",
        "\n",
        "print(\"Estimator with highest score (best_estimator):\", gridSearch.best_estimator_)\n",
        "print(\"Mean cross-validated score with the best_estimator: \", gridSearch.best_score_)\n",
        "print(\"Parameter value for best score: \", gridSearch.best_params_)"
      ]
    },
    {
      "cell_type": "code",
      "execution_count": 12,
      "metadata": {
        "id": "HkcnWrbFkL0V",
        "colab": {
          "base_uri": "https://localhost:8080/"
        },
        "outputId": "0353e36d-566f-4082-9b4a-b3c644b39127"
      },
      "outputs": [
        {
          "output_type": "stream",
          "name": "stdout",
          "text": [
            "For L2-regularized logistic regression:\n",
            "Best Training Accuracy:  93.13333333333334  %\n",
            "Best Testing Accuracy:  92.06745783885071  %\n"
          ]
        }
      ],
      "source": [
        "#Report your procedure and training and test performance\n",
        "print(\"For L2-regularized logistic regression:\")\n",
        "l2_model = gridSearch.best_estimator_\n",
        "x_test, y_test = test_set[:,:-1],test_set[:,-1]\n",
        "x_test = scaler.transform(x_test)\n",
        "\n",
        "# Training Accuracy for Best Estimator\n",
        "l2_train_accuracy = l2_model.score(x_train, y_train)*100\n",
        "print(\"Best Training Accuracy: \", l2_train_accuracy, \" %\")\n",
        "\n",
        "#Testing Accuracy for Best Estimator\n",
        "l2_test_accuracy = l2_model.score(x_test, y_test)*100\n",
        "print(\"Best Testing Accuracy: \", l2_test_accuracy, \" %\")"
      ]
    },
    {
      "cell_type": "markdown",
      "metadata": {
        "id": "qwnfSzAhgv3D"
      },
      "source": [
        "### Question 4. [ 3 points ]\n",
        "\n",
        "Apply L1-regularized logistic regression. Use cross-validation to determine an appropriate regularization penalty. Report your procedure and the value you find. What training and test performance do you get with this value?"
      ]
    },
    {
      "cell_type": "code",
      "execution_count": 13,
      "metadata": {
        "id": "isw6Jbm8jUGI"
      },
      "outputs": [],
      "source": [
        "#Apply L1-regularized logistic regression\n",
        "from sklearn.model_selection import train_test_split\n",
        "x_train, y_train = train_set[:,:-1],train_set[:,-1]\n",
        "scaler = StandardScaler()\n",
        "x_train = scaler.fit_transform(x_train)"
      ]
    },
    {
      "cell_type": "code",
      "execution_count": 14,
      "metadata": {
        "id": "lG9ZiW1okgXv",
        "colab": {
          "base_uri": "https://localhost:8080/"
        },
        "outputId": "50915ef0-f79b-427e-827c-233b63ab83fa"
      },
      "outputs": [
        {
          "output_type": "stream",
          "name": "stdout",
          "text": [
            "Fitting 10 folds for each of 10 candidates, totalling 100 fits\n",
            "Estimator with highest score (best_estimator): LogisticRegression(C=0.9, max_iter=1000, penalty='l1', random_state=0,\n",
            "                   solver='liblinear')\n",
            "Mean cross-validated score with the best_estimator:  0.9296666666666666\n",
            "Parameter value for best score:  {'C': 0.9}\n"
          ]
        }
      ],
      "source": [
        "#Perform cross-validation \n",
        "from sklearn.model_selection import GridSearchCV\n",
        "hyperparams = {'C':[x*0.1 for x in range(1,11)]}\n",
        "gridSearch = GridSearchCV(LogisticRegression(random_state=0,penalty='l1',max_iter=1000,solver='liblinear'),hyperparams,scoring='accuracy',n_jobs=-1,cv=10,verbose=True)\n",
        "gridSearch = gridSearch.fit(x_train,y_train)\n",
        "\n",
        "print(\"Estimator with highest score (best_estimator):\", gridSearch.best_estimator_)\n",
        "print(\"Mean cross-validated score with the best_estimator: \", gridSearch.best_score_)\n",
        "print(\"Parameter value for best score: \", gridSearch.best_params_)"
      ]
    },
    {
      "cell_type": "code",
      "execution_count": 15,
      "metadata": {
        "id": "ILi8jNTMki2z",
        "colab": {
          "base_uri": "https://localhost:8080/"
        },
        "outputId": "6b126d0a-9d01-483a-ee86-95dbe76c9748"
      },
      "outputs": [
        {
          "output_type": "stream",
          "name": "stdout",
          "text": [
            "For L1-regularized logistic regression:\n",
            "Best Training Accuracy:  93.33333333333333  %\n",
            "Best Testing Accuracy:  91.94253591505309  %\n"
          ]
        }
      ],
      "source": [
        "#Report your procedure and training and test performance\n",
        "print(\"For L1-regularized logistic regression:\")\n",
        "l1_model = gridSearch.best_estimator_\n",
        "x_test, y_test = test_set[:,:-1],test_set[:,-1]\n",
        "x_test = scaler.transform(x_test)\n",
        "\n",
        "# Training Accuracy for Best Estimator\n",
        "l1_train_accuracy = l1_model.score(x_train, y_train)*100\n",
        "print(\"Best Training Accuracy: \", l1_train_accuracy, \" %\")\n",
        "\n",
        "#Testing Accuracy for Best Estimator\n",
        "l1_test_accuracy = l1_model.score(x_test, y_test)*100\n",
        "print(\"Best Testing Accuracy: \", l1_test_accuracy, \" %\")"
      ]
    },
    {
      "cell_type": "markdown",
      "metadata": {
        "id": "vEMnUbhNiKDv"
      },
      "source": [
        "### Question 5. [ 3 points ]\n",
        "\n",
        "What are the advantages and disadvantages of the two models with repect to this problem? For example, have there been a lot of sparceness in the model, or what kind of features have been removed?"
      ]
    },
    {
      "cell_type": "code",
      "execution_count": 16,
      "metadata": {
        "id": "-NqGkLu0kz_u"
      },
      "outputs": [],
      "source": [
        "# Advantages and disadvantages of the two models"
      ]
    },
    {
      "cell_type": "markdown",
      "source": [
        "**$𝐿_1$ Regularization Model:**\n",
        "\n",
        "$Advantage$: We prefer $𝐿_1$ for sparse solutions and preventing overfitting. It is used when we have a large number of features (like in this case of 57 features) as it helps with feature selection as the features with zero coefficients can be removed.\n",
        "\n",
        "$Disadvantage$: Its solution is not in a closed form, and hence cannot be perfectly differentiated, and thus becomes computationally . \n",
        "\n",
        "**$𝐿_2$ Regularization Model:**\n",
        "\n",
        "$Advantage$: It has the advantage of being differentiable and smooth as solution is in closed form as it’s a square of a weight. $𝐿_2$ regularization is computationally efficient because of having analytical solutions.\n",
        "\n",
        "$Disadvantage$: It cannot be used to completely eliminate features."
      ],
      "metadata": {
        "id": "D_LoVbi8Cq77"
      }
    },
    {
      "cell_type": "markdown",
      "metadata": {
        "id": "rmnlr_kTi2Rc"
      },
      "source": [
        "### Question 6. [3 points]\n",
        "\n",
        "Transform the features with the basis function of your choice. Retrain the two models above and report the model performances. Why did you choose this basis function ?"
      ]
    },
    {
      "cell_type": "code",
      "execution_count": 17,
      "metadata": {
        "id": "RarKmxPMk7Eq",
        "colab": {
          "base_uri": "https://localhost:8080/"
        },
        "outputId": "70dcaf18-e661-4fae-d8d3-17ce7bfdef14"
      },
      "outputs": [
        {
          "output_type": "stream",
          "name": "stdout",
          "text": [
            "Fitting 2 folds for each of 5 candidates, totalling 10 fits\n",
            "Fitting 2 folds for each of 5 candidates, totalling 10 fits\n",
            "Fitting 2 folds for each of 4 candidates, totalling 8 fits\n",
            "Fitting 2 folds for each of 5 candidates, totalling 10 fits\n",
            "Fitting 2 folds for each of 4 candidates, totalling 8 fits\n",
            "Fitting 2 folds for each of 5 candidates, totalling 10 fits\n",
            "Fitting 2 folds for each of 4 candidates, totalling 8 fits\n",
            "Fitting 2 folds for each of 5 candidates, totalling 10 fits\n"
          ]
        }
      ],
      "source": [
        "#Retrain the two models above \n",
        "from sklearn.base import BaseEstimator, TransformerMixin\n",
        "from sklearn.pipeline import make_pipeline\n",
        "from sklearn.preprocessing import PolynomialFeatures, SplineTransformer, StandardScaler\n",
        "\n",
        "class GaussianBasis(BaseEstimator, TransformerMixin):\n",
        "    def __init__(self, N):\n",
        "        self.N = N # number of basis functions\n",
        "    \n",
        "    @staticmethod\n",
        "    def _gaussian_basis(x, avg, std, axis=None):\n",
        "        arg = (x - avg) / std\n",
        "        return np.exp(-0.5 * np.sum(arg ** 2, axis))\n",
        "        \n",
        "    def fit(self, X, y=None):\n",
        "        self.avgs = np.linspace(X.min(), X.max(), self.N)\n",
        "        self.std = self.avgs[1] - self.avgs[0]\n",
        "        return self\n",
        "        \n",
        "    def transform(self, X):\n",
        "        return self._gaussian_basis(X[:, :, np.newaxis], self.avgs, self.std, axis=1)\n",
        "\n",
        "x_train, y_train = train_set[:,:-1],train_set[:,-1]\n",
        "scaler = StandardScaler()\n",
        "x_train = scaler.fit_transform(x_train)\n",
        "x_test, y_test = test_set[:,:-1],test_set[:,-1]\n",
        "x_test = scaler.transform(x_test)\n",
        "\n",
        "# L1 & L2 Models using Gaussian Basis\n",
        "\n",
        "hyperparams_gaussian = {'C':[x*0.2 for x in range(1,6)]}\n",
        "\n",
        "gridSearch_L1 = GridSearchCV(LogisticRegression(random_state=0,penalty='l1',max_iter=40,solver='liblinear'),hyperparams_gaussian,scoring='accuracy',n_jobs=-1,cv=2,verbose=True,refit=True)\n",
        "gaussian_L1 = make_pipeline(GaussianBasis(20), gridSearch_L1)\n",
        "gaussian_L1 = gaussian_L1.fit(x_train, y_train)\n",
        "\n",
        "gridSearch_L2 = GridSearchCV(LogisticRegression(random_state=0,penalty='l2',max_iter=40,solver='liblinear'),hyperparams_gaussian,scoring='accuracy',n_jobs=-1,cv=2,verbose=True,refit=True)\n",
        "gaussian_L2 = make_pipeline(GaussianBasis(20), gridSearch_L2)\n",
        "gaussian_L2 = gaussian_L2.fit(x_train, y_train)\n",
        "\n",
        "# L1 & L2 Models using Polynomial Basis\n",
        "\n",
        "hyperparams_polynomial_L2 = {'C':[x*0.05 for x in range(3,8)]}\n",
        "\n",
        "hyperparams_polynomial_L1 = {'C':[x*0.05 for x in range(7,11)]}\n",
        "\n",
        "gridSearch_L1 = GridSearchCV(LogisticRegression(random_state=0,penalty='l1',max_iter=50,solver='liblinear'),hyperparams_polynomial_L1,scoring='accuracy',n_jobs=-1,cv=2,verbose=True,refit=True)\n",
        "polynomial_L1 = make_pipeline(PolynomialFeatures(2), gridSearch_L1)\n",
        "polynomial_L1 = polynomial_L1.fit(x_train, y_train)\n",
        "\n",
        "gridSearch_L2 = GridSearchCV(LogisticRegression(random_state=0,penalty='l2',max_iter=50,solver='liblinear'),hyperparams_polynomial_L2,scoring='accuracy',n_jobs=-1,cv=2,verbose=True,refit=True)\n",
        "polynomial_L2 = make_pipeline(PolynomialFeatures(2), gridSearch_L2)\n",
        "polynomial_L2 = polynomial_L2.fit(x_train, y_train)\n",
        "\n",
        "# L1 & L2 Models using SplineTransformer Basis\n",
        "\n",
        "hyperparams_polynomial_L2 = {'C':[x*0.05 for x in range(3,8)]}\n",
        "\n",
        "hyperparams_polynomial_L1 = {'C':[x*0.05 for x in range(7,11)]}\n",
        "\n",
        "gridSearch_L1 = GridSearchCV(LogisticRegression(random_state=0,penalty='l1',max_iter=50,solver='liblinear'),hyperparams_polynomial_L1,scoring='accuracy',n_jobs=-1,cv=2,verbose=True,refit=True)\n",
        "spline_L1 = make_pipeline(SplineTransformer(), gridSearch_L1)\n",
        "spline_L1 = spline_L1.fit(x_train, y_train)\n",
        "\n",
        "gridSearch_L2 = GridSearchCV(LogisticRegression(random_state=0,penalty='l2',max_iter=50,solver='liblinear'),hyperparams_polynomial_L2,scoring='accuracy',n_jobs=-1,cv=2,verbose=True,refit=True)\n",
        "spline_L2 = make_pipeline(SplineTransformer(), gridSearch_L2)\n",
        "spline_L2 = spline_L2.fit(x_train, y_train)\n",
        "\n",
        "# L1 & L2 Models using StandardScaler Basis\n",
        "\n",
        "hyperparams_polynomial_L2 = {'C':[x*0.05 for x in range(3,8)]}\n",
        "\n",
        "hyperparams_polynomial_L1 = {'C':[x*0.05 for x in range(7,11)]}\n",
        "\n",
        "gridSearch_L1 = GridSearchCV(LogisticRegression(random_state=0,penalty='l1',max_iter=50,solver='liblinear'),hyperparams_polynomial_L1,scoring='accuracy',n_jobs=-1,cv=2,verbose=True,refit=True)\n",
        "scaler_L1 = make_pipeline(StandardScaler(), gridSearch_L1)\n",
        "scaler_L1 = scaler_L1.fit(x_train, y_train)\n",
        "\n",
        "gridSearch_L2 = GridSearchCV(LogisticRegression(random_state=0,penalty='l2',max_iter=50,solver='liblinear'),hyperparams_polynomial_L2,scoring='accuracy',n_jobs=-1,cv=2,verbose=True,refit=True)\n",
        "scaler_L2 = make_pipeline(StandardScaler(), gridSearch_L2)\n",
        "scaler_L2 = scaler_L2.fit(x_train, y_train)"
      ]
    },
    {
      "cell_type": "code",
      "execution_count": 18,
      "metadata": {
        "id": "lsiLar7ulBz1",
        "colab": {
          "base_uri": "https://localhost:8080/"
        },
        "outputId": "f43b5315-0f98-4432-bd33-cc510f00a822"
      },
      "outputs": [
        {
          "output_type": "stream",
          "name": "stdout",
          "text": [
            "Guassian Basis:\n",
            "L1 Training Accuracy:  61.53333333333333  %\n",
            "L1 Testing Accuracy:  58.83822610868208  %\n",
            "L2 Training Accuracy:  61.53333333333333  %\n",
            "L2 Testing Accuracy:  58.83822610868208  %\n",
            "Polynomial Basis:\n",
            "L1 Training Accuracy:  96.53333333333333  %\n",
            "L1 Testing Accuracy:  93.06683322923173  %\n",
            "L2 Training Accuracy:  97.63333333333334  %\n",
            "L2 Testing Accuracy:  92.06745783885071  %\n",
            "Spline Basis:\n",
            "L1 Training Accuracy:  92.56666666666666  %\n",
            "L1 Testing Accuracy:  91.63023110555902  %\n",
            "L2 Training Accuracy:  91.53333333333333  %\n",
            "L2 Testing Accuracy:  90.81823860087445  %\n",
            "Scaler Basis:\n",
            "L1 Training Accuracy:  93.23333333333333  %\n",
            "L1 Testing Accuracy:  92.06745783885071  %\n",
            "L2 Training Accuracy:  93.0  %\n",
            "L2 Testing Accuracy:  91.94253591505309  %\n"
          ]
        }
      ],
      "source": [
        "#Report the model performances\n",
        "print(\"Guassian Basis:\")\n",
        "gaussian_L1_train_accuracy = gaussian_L1.score(x_train, y_train)*100\n",
        "print(\"L1 Training Accuracy: \", gaussian_L1_train_accuracy, \" %\")\n",
        "gaussian_L1_test_accuracy = gaussian_L1.score(x_test, y_test)*100\n",
        "print(\"L1 Testing Accuracy: \", gaussian_L1_test_accuracy, \" %\")\n",
        "gaussian_L2_train_accuracy = gaussian_L2.score(x_train, y_train)*100\n",
        "print(\"L2 Training Accuracy: \", gaussian_L2_train_accuracy, \" %\")\n",
        "gaussian_L2_test_accuracy = gaussian_L2.score(x_test, y_test)*100\n",
        "print(\"L2 Testing Accuracy: \", gaussian_L2_test_accuracy, \" %\")\n",
        "\n",
        "print(\"Polynomial Basis:\")\n",
        "polynomial_L1_train_accuracy = polynomial_L1.score(x_train, y_train)*100\n",
        "print(\"L1 Training Accuracy: \", polynomial_L1_train_accuracy, \" %\")\n",
        "polynomial_L1_test_accuracy = polynomial_L1.score(x_test, y_test)*100\n",
        "print(\"L1 Testing Accuracy: \", polynomial_L1_test_accuracy, \" %\")\n",
        "polynomial_L2_train_accuracy = polynomial_L2.score(x_train, y_train)*100\n",
        "print(\"L2 Training Accuracy: \", polynomial_L2_train_accuracy, \" %\")\n",
        "polynomial_L2_test_accuracy = polynomial_L2.score(x_test, y_test)*100\n",
        "print(\"L2 Testing Accuracy: \", polynomial_L2_test_accuracy, \" %\")\n",
        "\n",
        "print(\"Spline Basis:\")\n",
        "spline_L1_train_accuracy = spline_L1.score(x_train, y_train)*100\n",
        "print(\"L1 Training Accuracy: \", spline_L1_train_accuracy, \" %\")\n",
        "spline_L1_test_accuracy = spline_L1.score(x_test, y_test)*100\n",
        "print(\"L1 Testing Accuracy: \", spline_L1_test_accuracy, \" %\")\n",
        "spline_L2_train_accuracy = spline_L2.score(x_train, y_train)*100\n",
        "print(\"L2 Training Accuracy: \", spline_L2_train_accuracy, \" %\")\n",
        "spline_L2_test_accuracy = spline_L2.score(x_test, y_test)*100\n",
        "print(\"L2 Testing Accuracy: \", spline_L2_test_accuracy, \" %\")\n",
        "\n",
        "print(\"Scaler Basis:\")\n",
        "scaler_L1_train_accuracy = scaler_L1.score(x_train, y_train)*100\n",
        "print(\"L1 Training Accuracy: \", scaler_L1_train_accuracy, \" %\")\n",
        "scaler_L1_test_accuracy = scaler_L1.score(x_test, y_test)*100\n",
        "print(\"L1 Testing Accuracy: \", scaler_L1_test_accuracy, \" %\")\n",
        "scaler_L2_train_accuracy = scaler_L2.score(x_train, y_train)*100\n",
        "print(\"L2 Training Accuracy: \", scaler_L2_train_accuracy, \" %\")\n",
        "scaler_L2_test_accuracy = scaler_L2.score(x_test, y_test)*100\n",
        "print(\"L2 Testing Accuracy: \", scaler_L2_test_accuracy, \" %\")"
      ]
    },
    {
      "cell_type": "code",
      "execution_count": 19,
      "metadata": {
        "id": "Bai_8spSPEbw"
      },
      "outputs": [],
      "source": [
        "#Why choosing this basis function?"
      ]
    },
    {
      "cell_type": "markdown",
      "source": [
        "After trying Gaussian, Polynomial, Spline and StandardScaler Basis, we can observe that Gaussian models have relatively low training and testing performances. On the other hand, Polynomial Basis gives great results, and the $L_1$ regularized model has the best performance so we should choose it.\n",
        "\n",
        "A likely explanation for better result with Polynomial Basis is **PolynomialsFeatures** allows modeling for non-linear relations, yielding more predictive and explanatory power than linear models. It achieves it by augmenting the input features with some transformations and then using the transformed features in the linear model. It creates a new feature matrix that consisting of features transformed by putting original features to a higher degree and also modelling for important relationships between input features. This has resulted in a higher training and testing performance."
      ],
      "metadata": {
        "id": "SyBfDRNULjwv"
      }
    },
    {
      "cell_type": "markdown",
      "metadata": {
        "id": "i0Am_07CrKH_"
      },
      "source": [
        "# Section 2. MLE [15 pts]"
      ]
    },
    {
      "cell_type": "markdown",
      "metadata": {
        "id": "hTRlMoEkvcla"
      },
      "source": [
        "For the following problems, we will a collaborative filtering data set. These data\n",
        "are originally from http://eigentaste.berkeley.edu/dataset/, however, they have been altered somewhat for this HW, so you should use the files directly shared from us. These problems will only examine the marginal distribution of the ratings themselves. Assuming that the data set is in your homework path on google drive, the ratings can be loaded into your collab session using the block of code in the next cell. This will give you a 1761439 × 3 matrix of doubles. Right now we only care about the ratings, which are the third column. You’ll be asked to produce figures. Include these figures in your notebook."
      ]
    },
    {
      "cell_type": "code",
      "execution_count": 20,
      "metadata": {
        "id": "QbQEPwxizLKa",
        "colab": {
          "base_uri": "https://localhost:8080/"
        },
        "outputId": "f5dcbe8d-137d-4e73-bcf7-40e7e6e80109"
      },
      "outputs": [
        {
          "output_type": "execute_result",
          "data": {
            "text/plain": [
              "array([[ 1.000000e+00,  5.000000e+00,  2.275770e-01],\n",
              "       [ 1.000000e+00,  7.000000e+00, -9.279702e+00],\n",
              "       [ 1.000000e+00,  8.000000e+00, -9.267760e+00],\n",
              "       ...,\n",
              "       [ 6.397800e+04,  1.240000e+02, -9.022733e+00],\n",
              "       [ 6.397800e+04,  5.800000e+01, -8.644745e+00],\n",
              "       [ 6.397800e+04,  4.400000e+01, -8.445059e+00]])"
            ]
          },
          "metadata": {},
          "execution_count": 20
        }
      ],
      "source": [
        "import numpy as np\n",
        "prefix = '/content/gdrive/My Drive/'\n",
        "# modify \"customized_path_to_your_homework\" here to where your data is\n",
        "customized_path_to_your_homework = 'ECE_5424_AML/HW1/'\n",
        "data_path = prefix + customized_path_to_your_homework + 'data/jester_ratings.dat'\n",
        "data = np.genfromtxt(data_path)\n",
        "data"
      ]
    },
    {
      "cell_type": "markdown",
      "metadata": {
        "id": "0n6r6d8Nzpow"
      },
      "source": [
        "### Question 1. [ 5 points ]\n",
        "\n",
        "Generate a set of normalized histograms (histograms which have an area of one) of the ratings and\n",
        "qualitatively describe the empirical distributions that you see. Try several different bin sizes and explain your choices. Are the resulting density estimates uni- or multi-modal? Where do the peaks\n",
        "appear to be? Do these answers change as you vary the number of bins?"
      ]
    },
    {
      "cell_type": "code",
      "execution_count": 21,
      "metadata": {
        "id": "bo3cSrISzpow",
        "colab": {
          "base_uri": "https://localhost:8080/",
          "height": 1000
        },
        "outputId": "b6bb653e-63c6-4ac2-82e6-fc2bb9236dae"
      },
      "outputs": [
        {
          "output_type": "display_data",
          "data": {
            "text/plain": [
              "<Figure size 1800x1440 with 4 Axes>"
            ],
            "image/png": "[encoded data removed]"
          },
          "metadata": {
            "needs_background": "light"
          }
        }
      ],
      "source": [
        "# Your answer here (code, histogram, response to questions)\n",
        "import numpy as np\n",
        "fig = plt.figure(figsize=(25,20))\n",
        "n = 1\n",
        "bins_list = [30, 50, 100, 200]\n",
        "for bins in bins_list:\n",
        "  plt.subplot(4,1,n)\n",
        "  d, b = np.histogram(data[:,-1],bins=bins)\n",
        "  unit_d = d/ d.sum()\n",
        "  w = b[:-1] - b[1:]\n",
        "  plt.bar(b[1:], unit_d, width=w)\n",
        "  plt.title(f'Bins: {bins}')\n",
        "  n += 1\n",
        "fig.tight_layout()\n",
        "\n",
        "d, b = np.histogram(data[:,-1],bins=100)\n",
        "unit_d = d / d.sum()\n",
        "w = b[:-1] - b[1:]"
      ]
    },
    {
      "cell_type": "markdown",
      "source": [
        "The density estimates are **multi-modal** and we see a roughly normal distribution with peaks at extremes. I have tried **4** different bin sizes **(number of bins = 30, 50, 100, 200)**. The peaks appear to be near the extreme ratings (-10.0 & 10.0) and in the near the 2.5 rating mark in all the cases. The number of peaks (local maximas) increase with number of bins."
      ],
      "metadata": {
        "id": "FQ9mwUKPO-h6"
      }
    },
    {
      "cell_type": "markdown",
      "metadata": {
        "id": "TsLbJtg1zpow"
      },
      "source": [
        "### Question 2. [ 5 points ]\n",
        "\n",
        "Perform a maximum-likelihood fit of a Gaussian distribution to the ratings and report the mean and\n",
        "variance. Overlay the MLE Gaussian fit on top of the normalized histogram. Is it a good fit or a bad fit\n",
        "and why?\n",
        "\n"
      ]
    },
    {
      "cell_type": "code",
      "execution_count": 22,
      "metadata": {
        "id": "pYjgoOIwzpow"
      },
      "outputs": [],
      "source": [
        "# Fit MLE model\n",
        "from scipy import stats\n",
        "import numpy as np\n",
        "from scipy.optimize import minimize\n",
        "\n",
        "def gaussian(p):\n",
        "    avg = p[0]   \n",
        "    std = p[1]\n",
        "    negative_log_likelihood = -np.sum(stats.norm.logpdf(data[:,-1], loc=avg, scale=std)) # negative log likelihood\n",
        "    return negative_log_likelihood\n",
        "\n",
        "initial_params = [1, 1]\n",
        "\n",
        "res = minimize(gaussian, initial_params, method='Nelder-Mead')"
      ]
    },
    {
      "cell_type": "code",
      "execution_count": 23,
      "metadata": {
        "id": "1IaB2RcoPEby",
        "colab": {
          "base_uri": "https://localhost:8080/"
        },
        "outputId": "5b32a365-f70e-4703-bc39-3f8ffc70220f"
      },
      "outputs": [
        {
          "output_type": "stream",
          "name": "stdout",
          "text": [
            "Mean: 1.6186007041726516\n",
            "Variance: 28.117319037793557\n"
          ]
        }
      ],
      "source": [
        "# Report mean and variance\n",
        "avg = res.x[0]\n",
        "var = res.x[1]**2\n",
        "print(\"Mean:\", avg) \n",
        "print(\"Variance:\", var)"
      ]
    },
    {
      "cell_type": "code",
      "execution_count": 24,
      "metadata": {
        "id": "_hSbz25cPEby",
        "colab": {
          "base_uri": "https://localhost:8080/",
          "height": 320
        },
        "outputId": "910f69d8-b9a9-4799-d858-b77c421278b2"
      },
      "outputs": [
        {
          "output_type": "display_data",
          "data": {
            "text/plain": [
              "<Figure size 720x360 with 2 Axes>"
            ],
            "image/png": "[encoded data removed]"
          },
          "metadata": {
            "needs_background": "light"
          }
        }
      ],
      "source": [
        "# Overlay two histograms\n",
        "s = res.x[1]\n",
        "fit = stats.norm.pdf(data[:,-1], avg, s)\n",
        "fig, hist = plt.subplots(figsize=(10, 5))\n",
        "mlf = hist.twinx()\n",
        "hist.bar(b[1:], unit_d, width=w)\n",
        "mlf.plot(b[1:], stats.norm.pdf(b[1:], avg, s),'-',color='g')\n",
        "plt.show()"
      ]
    },
    {
      "cell_type": "code",
      "execution_count": 25,
      "metadata": {
        "id": "yKEy_0D6PEby"
      },
      "outputs": [],
      "source": [
        "# Explain model fit"
      ]
    },
    {
      "cell_type": "markdown",
      "source": [
        "There are outliers on both the extremes but the central points seem fit well with the gaussian model with the mean of both the distributions almost aligning. It needs to account for more variance in the data."
      ],
      "metadata": {
        "id": "Qg8-Wb8RRyaE"
      }
    },
    {
      "cell_type": "markdown",
      "metadata": {
        "id": "A5zJ0aObzpow"
      },
      "source": [
        "### Question 3. [ 5 points ]\n",
        "\n",
        "Randomly partition the data into ten disjoint sets (called folds) of approximately the same size. We will use these partitions to assess the generalization performance of these MLE fits. This is done by creating ten experiments where one fold is taken to be a “test” set and the remaining nine are together considered to be the “training” set. A model is fit on the training data and asked to make predictions of the test set. For a given model, this produces ten log probability numbers that reflect how well the model generalized to the unseen data. If the folds are of different size, the predictive log probabilities can be turned into “averages” by dividing the overall logprob by the number of test cases. Perform this procedure for your Gaussian histogram density estimators from Problem 1 and 2. That is, fit this model ten times on 9/10ths of the data and ask it to make predictions of the remaining 1/10th. To visualize the results, produce a boxplot of the average log probabilities."
      ]
    },
    {
      "cell_type": "code",
      "execution_count": 26,
      "metadata": {
        "id": "GT4yKbJUzpow",
        "colab": {
          "base_uri": "https://localhost:8080/"
        },
        "outputId": "bda012a1-6e5f-4699-a1ca-a8b88af23315"
      },
      "outputs": [
        {
          "output_type": "stream",
          "name": "stdout",
          "text": [
            "3.1918484126546898\n",
            "3.1083141488256136\n",
            "3.09334080089909\n",
            "3.0599261142510032\n",
            "3.016148896096349\n",
            "3.0217798480642895\n",
            "3.026632356695882\n",
            "3.070521660029692\n",
            "3.1616408384792263\n",
            "3.129973963610216\n"
          ]
        }
      ],
      "source": [
        "# Perform 10-fold cross validation\n",
        "from sklearn.model_selection import KFold\n",
        "\n",
        "def gaussian(p):\n",
        "    avg = p[0]   \n",
        "    std = p[1]\n",
        "    negative_log_likelihood = -np.sum(stats.norm.logpdf(data[train,-1], loc=avg, scale=std)) # negative log likelihood\n",
        "    return negative_log_likelihood\n",
        "\n",
        "\n",
        "folds = KFold(n_splits=10)\n",
        "ans = []\n",
        "for train, test in folds.split(data[:,-1]):\n",
        "  initial_params = [1, 1]\n",
        "  res = minimize(gaussian, initial_params, method='Nelder-Mead')\n",
        "  avg = res.x[0]\n",
        "  std = res.x[1]\n",
        "  negative_log_likelihood = -np.sum(stats.norm.logpdf(data[test,-1], loc=avg, scale=std))/len(test)\n",
        "  print(negative_log_likelihood)\n",
        "  ans.append(negative_log_likelihood)"
      ]
    },
    {
      "cell_type": "code",
      "execution_count": 27,
      "metadata": {
        "id": "mJunqeFgPEbz",
        "colab": {
          "base_uri": "https://localhost:8080/",
          "height": 624
        },
        "outputId": "457b9b4c-dfdd-427e-add5-05e841ea77f9"
      },
      "outputs": [
        {
          "output_type": "execute_result",
          "data": {
            "text/plain": [
              "{'whiskers': [<matplotlib.lines.Line2D at 0x7feecde2e550>,\n",
              "  <matplotlib.lines.Line2D at 0x7feecde2ea90>],\n",
              " 'caps': [<matplotlib.lines.Line2D at 0x7feecde2efd0>,\n",
              "  <matplotlib.lines.Line2D at 0x7feecde35550>],\n",
              " 'boxes': [<matplotlib.lines.Line2D at 0x7feecde27f50>],\n",
              " 'medians': [<matplotlib.lines.Line2D at 0x7feecde35ad0>],\n",
              " 'fliers': [<matplotlib.lines.Line2D at 0x7feecde3e050>],\n",
              " 'means': []}"
            ]
          },
          "metadata": {},
          "execution_count": 27
        },
        {
          "output_type": "display_data",
          "data": {
            "text/plain": [
              "<Figure size 720x576 with 1 Axes>"
            ],
            "image/png": "[encoded data removed]"
          },
          "metadata": {
            "needs_background": "light"
          }
        }
      ],
      "source": [
        "# Visualize results\n",
        "plt.boxplot(ans)"
      ]
    },
    {
      "cell_type": "markdown",
      "metadata": {
        "id": "f2C-Eupw4siz"
      },
      "source": [
        "## Section 3. Evaluation Questions  [7 points ]\n",
        "\n",
        "1. Suppose we fit a linear model to a polynomial data. Is this model a good fit? If not, is it underfitting or overfitting? [ 2 points ]\n"
      ]
    },
    {
      "cell_type": "markdown",
      "metadata": {
        "id": "Kiae0v324JTt"
      },
      "source": [
        "A linear model can be fit to polynomial data as the weights(co-efficients) for the features can still be linear, and the model still remains a linear combination of features. But now, the nature of the curve we will be attempting to fit is of a higher degree (non-linear).\n",
        "\n",
        "Like we did in the above Logistic Regression section for Problem 6, we can use different basis functions with relevant hyperparameters to train the linear model. We can make the linear model fit well with the polynomial data."
      ]
    },
    {
      "cell_type": "markdown",
      "metadata": {
        "id": "D1dEQooh4BKm"
      },
      "source": [
        "2.  How does cross validation address the problem of overfitting? Does it only identify (or detect) overfitting? Does it also eliminate (or at least reduce) overfitting? Explain\n",
        "your answers. [2.5 points ]\n"
      ]
    },
    {
      "cell_type": "markdown",
      "metadata": {
        "id": "1Dpqpb8KPEb3"
      },
      "source": [
        "Overfitting is caused when we have a high variance model which is very flexible such that it fits the outliers, additional variance, and performs well on the training data but is unable to generalize and fails in testing. We can split the data into a training and testing sets but even that static splitting does not use the data efficiently. Cross-validation uses the advantages of the training-testing split, while also using the data efficiently by creating folds (i.e. the whole dataset is used for training and testing but not in a single run). A list of accuracy scores are recorded correponding to different holdout folds and the cross-validation score is computed as the mean of the list of scores. The model has different data (new instances) to train at every training iteration and it generalizes well for test data. \n",
        "\n",
        "Cross validation can serve as a tool to check for over-fitting. If the difference between training and validation accuracy is high then it is overfitting on the training data. We cannot reduce overfitting by using cross-validation by itself. Using k-fold cross-validation in conjunction with Grid Search or some other type of hyperparamter tuning techniques, one can reduce overfitting."
      ]
    },
    {
      "cell_type": "markdown",
      "metadata": {
        "id": "734sFMrm4Ecj"
      },
      "source": [
        "3. Suppose you are given a dataset { (𝑥<sub>1</sub>, 𝑦<sub>1</sub>), (𝑥<sub>2</sub>, 𝑦<sub>2</sub>), ⋯ , (𝑥<sub>m</sub>, 𝑦<sub>m</sub>) } and you are asked to perform **5-fold cross-validation** for selecting the value of 𝜆 for $𝐿_2$ regularization for a regularized linear regression. Please describe the procedure of how you would select the value 𝜆. [2.5 points ]"
      ]
    },
    {
      "cell_type": "markdown",
      "metadata": {
        "id": "JwfnZiSC4Kqs"
      },
      "source": [
        "Loss Function for Linear Regression using $𝐿_2$ regularization is given by :\n",
        "\n",
        "$L(x, y) = \\sum_{i = 1}^{n} \\left ( y_{i} - h_{\\theta}\\left ( x_{i} \\right ) \\right )^{2} + \\lambda \\sum_{i=1}^{n} \\theta_{i}^{2}$\n",
        "\n",
        "We can reduce the value of lambda to make the model complex or increase it to simplify the model. We can determine an optimal value for $\\lambda$ using cross-validation. Determine a range for $\\lambda$ (for ex: [0.1, 0.2, 0.3, 0.4, 0.5, 0.6, 0.7, 0.8, 0.9, 1.0]).\n",
        "\n",
        "**Step 1**: Split the data into train and test sets (80%-20% split).\n",
        "\n",
        "**Step 2**: Split the train set into 5 equal folds.\n",
        "\n",
        "**Step 3**: Choose a value for $\\lambda$ from the range. Train the model on 4 folds and evaluate the model on holdout fold and get the score. For ex: Score = 0.48\n",
        "\n",
        "**Step 4**: Repeat the above step k-1 = 4 times, each time on a different holdout fold, and keep a track of the scores.\n",
        "\n",
        "**Step 5**: After Step 4, we have 5 scores. Compute Cross-Validation Score as mean of all the scores.\n",
        "\n",
        "**Step 6**: Repeat Steps 1 to 5 for other values of lambda that you like. \n",
        "\n",
        "The optimal value of lambda is the one which corresponds to the best cross-validation score."
      ]
    },
    {
      "cell_type": "code",
      "source": [
        "# Converting to PDF\n",
        "!jupyter nbconvert --to PDF \"/content/gdrive/MyDrive/ECE_5424_AML/HW1/ankit-parekh-SectionB.ipynb\""
      ],
      "metadata": {
        "colab": {
          "base_uri": "https://localhost:8080/"
        },
        "id": "4CgjimwZcZFi",
        "outputId": "70e9fcaf-dba8-469d-dc58-1e67e4e2b78b"
      },
      "execution_count": 29,
      "outputs": [
        {
          "output_type": "stream",
          "name": "stdout",
          "text": [
            "\r0% [Working]\r            \rGet:1 http://security.ubuntu.com/ubuntu bionic-security InRelease [88.7 kB]\n",
            "\r0% [Connecting to archive.ubuntu.com (185.125.190.39)] [1 InRelease 14.2 kB/88.\r                                                                               \rGet:2 https://cloud.r-project.org/bin/linux/ubuntu bionic-cran40/ InRelease [3,626 B]\n",
            "\r0% [Connecting to archive.ubuntu.com (185.125.190.39)] [1 InRelease 14.2 kB/88.\r0% [Connecting to archive.ubuntu.com (185.125.190.39)] [1 InRelease 31.5 kB/88.\r0% [2 InRelease gpgv 3,626 B] [Connecting to archive.ubuntu.com (185.125.190.39\r0% [2 InRelease gpgv 3,626 B] [Connecting to archive.ubuntu.com (185.125.190.39\r                                                                               \rGet:3 http://ppa.launchpad.net/c2d4u.team/c2d4u4.0+/ubuntu bionic InRelease [15.9 kB]\n",
            "\r0% [2 InRelease gpgv 3,626 B] [Waiting for headers] [Waiting for headers] [3 In\r                                                                               \rHit:4 http://archive.ubuntu.com/ubuntu bionic InRelease\n",
            "\r0% [2 InRelease gpgv 3,626 B] [Waiting for headers] [3 InRelease 14.2 kB/15.9 k\r                                                                               \rIgn:5 https://developer.download.nvidia.com/compute/machine-learning/repos/ubuntu1804/x86_64  InRelease\n",
            "\r0% [2 InRelease gpgv 3,626 B] [Waiting for headers] [Waiting for headers] [3 In\r                                                                               \rHit:6 https://developer.download.nvidia.com/compute/cuda/repos/ubuntu1804/x86_64  InRelease\n",
            "\r0% [2 InRelease gpgv 3,626 B] [Waiting for headers] [3 InRelease 14.2 kB/15.9 k\r                                                                               \rHit:7 https://developer.download.nvidia.com/compute/machine-learning/repos/ubuntu1804/x86_64  Release\n",
            "Get:8 http://archive.ubuntu.com/ubuntu bionic-updates InRelease [88.7 kB]\n",
            "Hit:9 http://ppa.launchpad.net/cran/libgit2/ubuntu bionic InRelease\n",
            "Get:10 http://security.ubuntu.com/ubuntu bionic-security/restricted amd64 Packages [1,188 kB]\n",
            "Get:11 http://security.ubuntu.com/ubuntu bionic-security/main amd64 Packages [3,020 kB]\n",
            "Get:12 http://ppa.launchpad.net/deadsnakes/ppa/ubuntu bionic InRelease [15.9 kB]\n",
            "Get:13 http://archive.ubuntu.com/ubuntu bionic-backports InRelease [83.3 kB]\n",
            "Get:14 http://security.ubuntu.com/ubuntu bionic-security/universe amd64 Packages [1,551 kB]\n",
            "Get:15 http://ppa.launchpad.net/graphics-drivers/ppa/ubuntu bionic InRelease [21.3 kB]\n",
            "Get:17 http://ppa.launchpad.net/c2d4u.team/c2d4u4.0+/ubuntu bionic/main Sources [2,164 kB]\n",
            "Get:18 http://archive.ubuntu.com/ubuntu bionic-updates/main amd64 Packages [3,452 kB]\n",
            "Get:19 http://ppa.launchpad.net/c2d4u.team/c2d4u4.0+/ubuntu bionic/main amd64 Packages [1,109 kB]\n",
            "Get:20 http://archive.ubuntu.com/ubuntu bionic-updates/universe amd64 Packages [2,329 kB]\n",
            "Get:21 http://archive.ubuntu.com/ubuntu bionic-updates/restricted amd64 Packages [1,230 kB]\n",
            "Get:22 http://ppa.launchpad.net/deadsnakes/ppa/ubuntu bionic/main amd64 Packages [45.3 kB]\n",
            "Get:23 http://ppa.launchpad.net/graphics-drivers/ppa/ubuntu bionic/main amd64 Packages [50.8 kB]\n",
            "Fetched 16.5 MB in 3s (5,257 kB/s)\n",
            "Reading package lists... Done\n",
            "Extracting templates from packages: 100%\n",
            "Preconfiguring packages ...\n",
            "Selecting previously unselected package fonts-droid-fallback.\n",
            "(Reading database ... 123934 files and directories currently installed.)\n",
            "Preparing to unpack .../00-fonts-droid-fallback_1%3a6.0.1r16-1.1_all.deb ...\n",
            "Unpacking fonts-droid-fallback (1:6.0.1r16-1.1) ...\n",
            "Selecting previously unselected package fonts-lato.\n",
            "Preparing to unpack .../01-fonts-lato_2.0-2_all.deb ...\n",
            "Unpacking fonts-lato (2.0-2) ...\n",
            "Selecting previously unselected package poppler-data.\n",
            "Preparing to unpack .../02-poppler-data_0.4.8-2_all.deb ...\n",
            "Unpacking poppler-data (0.4.8-2) ...\n",
            "Selecting previously unselected package tex-common.\n",
            "Preparing to unpack .../03-tex-common_6.09_all.deb ...\n",
            "Unpacking tex-common (6.09) ...\n",
            "Selecting previously unselected package fonts-lmodern.\n",
            "Preparing to unpack .../04-fonts-lmodern_2.004.5-3_all.deb ...\n",
            "Unpacking fonts-lmodern (2.004.5-3) ...\n",
            "Selecting previously unselected package fonts-noto-mono.\n",
            "Preparing to unpack .../05-fonts-noto-mono_20171026-2_all.deb ...\n",
            "Unpacking fonts-noto-mono (20171026-2) ...\n",
            "Selecting previously unselected package fonts-texgyre.\n",
            "Preparing to unpack .../06-fonts-texgyre_20160520-1_all.deb ...\n",
            "Unpacking fonts-texgyre (20160520-1) ...\n",
            "Selecting previously unselected package javascript-common.\n",
            "Preparing to unpack .../07-javascript-common_11_all.deb ...\n",
            "Unpacking javascript-common (11) ...\n",
            "Selecting previously unselected package libcupsfilters1:amd64.\n",
            "Preparing to unpack .../08-libcupsfilters1_1.20.2-0ubuntu3.1_amd64.deb ...\n",
            "Unpacking libcupsfilters1:amd64 (1.20.2-0ubuntu3.1) ...\n",
            "Selecting previously unselected package libcupsimage2:amd64.\n",
            "Preparing to unpack .../09-libcupsimage2_2.2.7-1ubuntu2.9_amd64.deb ...\n",
            "Unpacking libcupsimage2:amd64 (2.2.7-1ubuntu2.9) ...\n",
            "Selecting previously unselected package libijs-0.35:amd64.\n",
            "Preparing to unpack .../10-libijs-0.35_0.35-13_amd64.deb ...\n",
            "Unpacking libijs-0.35:amd64 (0.35-13) ...\n",
            "Selecting previously unselected package libjbig2dec0:amd64.\n",
            "Preparing to unpack .../11-libjbig2dec0_0.13-6_amd64.deb ...\n",
            "Unpacking libjbig2dec0:amd64 (0.13-6) ...\n",
            "Selecting previously unselected package libgs9-common.\n",
            "Preparing to unpack .../12-libgs9-common_9.26~dfsg+0-0ubuntu0.18.04.17_all.deb ...\n",
            "Unpacking libgs9-common (9.26~dfsg+0-0ubuntu0.18.04.17) ...\n",
            "Selecting previously unselected package libgs9:amd64.\n",
            "Preparing to unpack .../13-libgs9_9.26~dfsg+0-0ubuntu0.18.04.17_amd64.deb ...\n",
            "Unpacking libgs9:amd64 (9.26~dfsg+0-0ubuntu0.18.04.17) ...\n",
            "Selecting previously unselected package libjs-jquery.\n",
            "Preparing to unpack .../14-libjs-jquery_3.2.1-1_all.deb ...\n",
            "Unpacking libjs-jquery (3.2.1-1) ...\n",
            "Selecting previously unselected package libkpathsea6:amd64.\n",
            "Preparing to unpack .../15-libkpathsea6_2017.20170613.44572-8ubuntu0.1_amd64.deb ...\n",
            "Unpacking libkpathsea6:amd64 (2017.20170613.44572-8ubuntu0.1) ...\n",
            "Selecting previously unselected package libpotrace0.\n",
            "Preparing to unpack .../16-libpotrace0_1.14-2_amd64.deb ...\n",
            "Unpacking libpotrace0 (1.14-2) ...\n",
            "Selecting previously unselected package libptexenc1:amd64.\n",
            "Preparing to unpack .../17-libptexenc1_2017.20170613.44572-8ubuntu0.1_amd64.deb ...\n",
            "Unpacking libptexenc1:amd64 (2017.20170613.44572-8ubuntu0.1) ...\n",
            "Selecting previously unselected package rubygems-integration.\n",
            "Preparing to unpack .../18-rubygems-integration_1.11_all.deb ...\n",
            "Unpacking rubygems-integration (1.11) ...\n",
            "Selecting previously unselected package ruby2.5.\n",
            "Preparing to unpack .../19-ruby2.5_2.5.1-1ubuntu1.12_amd64.deb ...\n",
            "Unpacking ruby2.5 (2.5.1-1ubuntu1.12) ...\n",
            "Selecting previously unselected package ruby.\n",
            "Preparing to unpack .../20-ruby_1%3a2.5.1_amd64.deb ...\n",
            "Unpacking ruby (1:2.5.1) ...\n",
            "Selecting previously unselected package rake.\n",
            "Preparing to unpack .../21-rake_12.3.1-1ubuntu0.1_all.deb ...\n",
            "Unpacking rake (12.3.1-1ubuntu0.1) ...\n",
            "Selecting previously unselected package ruby-did-you-mean.\n",
            "Preparing to unpack .../22-ruby-did-you-mean_1.2.0-2_all.deb ...\n",
            "Unpacking ruby-did-you-mean (1.2.0-2) ...\n",
            "Selecting previously unselected package ruby-minitest.\n",
            "Preparing to unpack .../23-ruby-minitest_5.10.3-1_all.deb ...\n",
            "Unpacking ruby-minitest (5.10.3-1) ...\n",
            "Selecting previously unselected package ruby-net-telnet.\n",
            "Preparing to unpack .../24-ruby-net-telnet_0.1.1-2_all.deb ...\n",
            "Unpacking ruby-net-telnet (0.1.1-2) ...\n",
            "Selecting previously unselected package ruby-power-assert.\n",
            "Preparing to unpack .../25-ruby-power-assert_0.3.0-1_all.deb ...\n",
            "Unpacking ruby-power-assert (0.3.0-1) ...\n",
            "Selecting previously unselected package ruby-test-unit.\n",
            "Preparing to unpack .../26-ruby-test-unit_3.2.5-1_all.deb ...\n",
            "Unpacking ruby-test-unit (3.2.5-1) ...\n",
            "Selecting previously unselected package libruby2.5:amd64.\n",
            "Preparing to unpack .../27-libruby2.5_2.5.1-1ubuntu1.12_amd64.deb ...\n",
            "Unpacking libruby2.5:amd64 (2.5.1-1ubuntu1.12) ...\n",
            "Selecting previously unselected package libsynctex1:amd64.\n",
            "Preparing to unpack .../28-libsynctex1_2017.20170613.44572-8ubuntu0.1_amd64.deb ...\n",
            "Unpacking libsynctex1:amd64 (2017.20170613.44572-8ubuntu0.1) ...\n",
            "Selecting previously unselected package libtexlua52:amd64.\n",
            "Preparing to unpack .../29-libtexlua52_2017.20170613.44572-8ubuntu0.1_amd64.deb ...\n",
            "Unpacking libtexlua52:amd64 (2017.20170613.44572-8ubuntu0.1) ...\n",
            "Selecting previously unselected package libtexluajit2:amd64.\n",
            "Preparing to unpack .../30-libtexluajit2_2017.20170613.44572-8ubuntu0.1_amd64.deb ...\n",
            "Unpacking libtexluajit2:amd64 (2017.20170613.44572-8ubuntu0.1) ...\n",
            "Selecting previously unselected package libzzip-0-13:amd64.\n",
            "Preparing to unpack .../31-libzzip-0-13_0.13.62-3.1ubuntu0.18.04.1_amd64.deb ...\n",
            "Unpacking libzzip-0-13:amd64 (0.13.62-3.1ubuntu0.18.04.1) ...\n",
            "Selecting previously unselected package lmodern.\n",
            "Preparing to unpack .../32-lmodern_2.004.5-3_all.deb ...\n",
            "Unpacking lmodern (2.004.5-3) ...\n",
            "Selecting previously unselected package preview-latex-style.\n",
            "Preparing to unpack .../33-preview-latex-style_11.91-1ubuntu1_all.deb ...\n",
            "Unpacking preview-latex-style (11.91-1ubuntu1) ...\n",
            "Selecting previously unselected package t1utils.\n",
            "Preparing to unpack .../34-t1utils_1.41-2_amd64.deb ...\n",
            "Unpacking t1utils (1.41-2) ...\n",
            "Selecting previously unselected package tex-gyre.\n",
            "Preparing to unpack .../35-tex-gyre_20160520-1_all.deb ...\n",
            "Unpacking tex-gyre (20160520-1) ...\n",
            "Selecting previously unselected package texlive-binaries.\n",
            "Preparing to unpack .../36-texlive-binaries_2017.20170613.44572-8ubuntu0.1_amd64.deb ...\n",
            "Unpacking texlive-binaries (2017.20170613.44572-8ubuntu0.1) ...\n",
            "Selecting previously unselected package texlive-base.\n",
            "Preparing to unpack .../37-texlive-base_2017.20180305-1_all.deb ...\n",
            "Unpacking texlive-base (2017.20180305-1) ...\n",
            "Selecting previously unselected package texlive-fonts-recommended.\n",
            "Preparing to unpack .../38-texlive-fonts-recommended_2017.20180305-1_all.deb ...\n",
            "Unpacking texlive-fonts-recommended (2017.20180305-1) ...\n",
            "Selecting previously unselected package texlive-latex-base.\n",
            "Preparing to unpack .../39-texlive-latex-base_2017.20180305-1_all.deb ...\n",
            "Unpacking texlive-latex-base (2017.20180305-1) ...\n",
            "Selecting previously unselected package texlive-latex-recommended.\n",
            "Preparing to unpack .../40-texlive-latex-recommended_2017.20180305-1_all.deb ...\n",
            "Unpacking texlive-latex-recommended (2017.20180305-1) ...\n",
            "Selecting previously unselected package texlive.\n",
            "Preparing to unpack .../41-texlive_2017.20180305-1_all.deb ...\n",
            "Unpacking texlive (2017.20180305-1) ...\n",
            "Selecting previously unselected package texlive-pictures.\n",
            "Preparing to unpack .../42-texlive-pictures_2017.20180305-1_all.deb ...\n",
            "Unpacking texlive-pictures (2017.20180305-1) ...\n",
            "Selecting previously unselected package texlive-latex-extra.\n",
            "Preparing to unpack .../43-texlive-latex-extra_2017.20180305-2_all.deb ...\n",
            "Unpacking texlive-latex-extra (2017.20180305-2) ...\n",
            "Selecting previously unselected package texlive-plain-generic.\n",
            "Preparing to unpack .../44-texlive-plain-generic_2017.20180305-2_all.deb ...\n",
            "Unpacking texlive-plain-generic (2017.20180305-2) ...\n",
            "Selecting previously unselected package tipa.\n",
            "Preparing to unpack .../45-tipa_2%3a1.3-20_all.deb ...\n",
            "Unpacking tipa (2:1.3-20) ...\n",
            "Selecting previously unselected package texlive-xetex.\n",
            "Preparing to unpack .../46-texlive-xetex_2017.20180305-1_all.deb ...\n",
            "Unpacking texlive-xetex (2017.20180305-1) ...\n",
            "Setting up libgs9-common (9.26~dfsg+0-0ubuntu0.18.04.17) ...\n",
            "Setting up libkpathsea6:amd64 (2017.20170613.44572-8ubuntu0.1) ...\n",
            "Setting up libjs-jquery (3.2.1-1) ...\n",
            "Setting up libtexlua52:amd64 (2017.20170613.44572-8ubuntu0.1) ...\n",
            "Setting up fonts-droid-fallback (1:6.0.1r16-1.1) ...\n",
            "Setting up libsynctex1:amd64 (2017.20170613.44572-8ubuntu0.1) ...\n",
            "Setting up libptexenc1:amd64 (2017.20170613.44572-8ubuntu0.1) ...\n",
            "Setting up tex-common (6.09) ...\n",
            "update-language: texlive-base not installed and configured, doing nothing!\n",
            "Setting up poppler-data (0.4.8-2) ...\n",
            "Setting up tex-gyre (20160520-1) ...\n",
            "Setting up preview-latex-style (11.91-1ubuntu1) ...\n",
            "Setting up fonts-texgyre (20160520-1) ...\n",
            "Setting up fonts-noto-mono (20171026-2) ...\n",
            "Setting up fonts-lato (2.0-2) ...\n",
            "Setting up libcupsfilters1:amd64 (1.20.2-0ubuntu3.1) ...\n",
            "Setting up libcupsimage2:amd64 (2.2.7-1ubuntu2.9) ...\n",
            "Setting up libjbig2dec0:amd64 (0.13-6) ...\n",
            "Setting up ruby-did-you-mean (1.2.0-2) ...\n",
            "Setting up t1utils (1.41-2) ...\n",
            "Setting up ruby-net-telnet (0.1.1-2) ...\n",
            "Setting up libijs-0.35:amd64 (0.35-13) ...\n",
            "Setting up rubygems-integration (1.11) ...\n",
            "Setting up libpotrace0 (1.14-2) ...\n",
            "Setting up javascript-common (11) ...\n",
            "Setting up ruby-minitest (5.10.3-1) ...\n",
            "Setting up libzzip-0-13:amd64 (0.13.62-3.1ubuntu0.18.04.1) ...\n",
            "Setting up libgs9:amd64 (9.26~dfsg+0-0ubuntu0.18.04.17) ...\n",
            "Setting up libtexluajit2:amd64 (2017.20170613.44572-8ubuntu0.1) ...\n",
            "Setting up fonts-lmodern (2.004.5-3) ...\n",
            "Setting up ruby-power-assert (0.3.0-1) ...\n",
            "Setting up texlive-binaries (2017.20170613.44572-8ubuntu0.1) ...\n",
            "update-alternatives: using /usr/bin/xdvi-xaw to provide /usr/bin/xdvi.bin (xdvi.bin) in auto mode\n",
            "update-alternatives: using /usr/bin/bibtex.original to provide /usr/bin/bibtex (bibtex) in auto mode\n",
            "Setting up texlive-base (2017.20180305-1) ...\n",
            "mktexlsr: Updating /var/lib/texmf/ls-R-TEXLIVEDIST... \n",
            "mktexlsr: Updating /var/lib/texmf/ls-R-TEXMFMAIN... \n",
            "mktexlsr: Updating /var/lib/texmf/ls-R... \n",
            "mktexlsr: Done.\n",
            "tl-paper: setting paper size for dvips to a4: /var/lib/texmf/dvips/config/config-paper.ps\n",
            "tl-paper: setting paper size for dvipdfmx to a4: /var/lib/texmf/dvipdfmx/dvipdfmx-paper.cfg\n",
            "tl-paper: setting paper size for xdvi to a4: /var/lib/texmf/xdvi/XDvi-paper\n",
            "tl-paper: setting paper size for pdftex to a4: /var/lib/texmf/tex/generic/config/pdftexconfig.tex\n",
            "Setting up texlive-fonts-recommended (2017.20180305-1) ...\n",
            "Setting up texlive-plain-generic (2017.20180305-2) ...\n",
            "Setting up texlive-latex-base (2017.20180305-1) ...\n",
            "Setting up lmodern (2.004.5-3) ...\n",
            "Setting up texlive-latex-recommended (2017.20180305-1) ...\n",
            "Setting up texlive-pictures (2017.20180305-1) ...\n",
            "Setting up tipa (2:1.3-20) ...\n",
            "Regenerating '/var/lib/texmf/fmtutil.cnf-DEBIAN'... done.\n",
            "Regenerating '/var/lib/texmf/fmtutil.cnf-TEXLIVEDIST'... done.\n",
            "update-fmtutil has updated the following file(s):\n",
            "\t/var/lib/texmf/fmtutil.cnf-DEBIAN\n",
            "\t/var/lib/texmf/fmtutil.cnf-TEXLIVEDIST\n",
            "If you want to activate the changes in the above file(s),\n",
            "you should run fmtutil-sys or fmtutil.\n",
            "Setting up texlive (2017.20180305-1) ...\n",
            "Setting up texlive-latex-extra (2017.20180305-2) ...\n",
            "Setting up texlive-xetex (2017.20180305-1) ...\n",
            "Setting up ruby2.5 (2.5.1-1ubuntu1.12) ...\n",
            "Setting up ruby (1:2.5.1) ...\n",
            "Setting up ruby-test-unit (3.2.5-1) ...\n",
            "Setting up rake (12.3.1-1ubuntu0.1) ...\n",
            "Setting up libruby2.5:amd64 (2.5.1-1ubuntu1.12) ...\n",
            "Processing triggers for mime-support (3.60ubuntu1) ...\n",
            "Processing triggers for libc-bin (2.27-3ubuntu1.6) ...\n",
            "Processing triggers for man-db (2.8.3-2ubuntu0.1) ...\n",
            "Processing triggers for fontconfig (2.12.6-0ubuntu2) ...\n",
            "Processing triggers for tex-common (6.09) ...\n",
            "Running updmap-sys. This may take some time... done.\n",
            "Running mktexlsr /var/lib/texmf ... done.\n",
            "Building format(s) --all.\n",
            "\tThis may take some time... done.\n",
            "[NbConvertApp] Converting notebook /content/gdrive/MyDrive/ECE_5424_AML/HW1/ankit-parekh-SectionB.ipynb to PDF\n",
            "[NbConvertApp] Support files will be in ankit-parekh-SectionB_files/\n",
            "[NbConvertApp] Making directory ./ankit-parekh-SectionB_files\n",
            "[NbConvertApp] Making directory ./ankit-parekh-SectionB_files\n",
            "[NbConvertApp] Making directory ./ankit-parekh-SectionB_files\n",
            "[NbConvertApp] Making directory ./ankit-parekh-SectionB_files\n",
            "[NbConvertApp] Writing 107232 bytes to ./notebook.tex\n",
            "[NbConvertApp] Building PDF\n",
            "[NbConvertApp] Running xelatex 3 times: ['xelatex', './notebook.tex', '-quiet']\n",
            "[NbConvertApp] Running bibtex 1 time: ['bibtex', './notebook']\n",
            "[NbConvertApp] WARNING | bibtex had problems, most likely because there were no citations\n",
            "[NbConvertApp] PDF successfully created\n",
            "[NbConvertApp] Writing 199860 bytes to /content/gdrive/MyDrive/ECE_5424_AML/HW1/ankit-parekh-SectionB.pdf\n"
          ]
        }
      ]
    },
    {
      "cell_type": "code",
      "source": [],
      "metadata": {
        "id": "wXUrxpTcglTl"
      },
      "execution_count": 28,
      "outputs": []
    }
  ],
  "metadata": {
    "colab": {
      "collapsed_sections": [],
      "provenance": []
    },
    "kernelspec": {
      "display_name": "Python 3 (ipykernel)",
      "language": "python",
      "name": "python3"
    },
    "language_info": {
      "codemirror_mode": {
        "name": "ipython",
        "version": 3
      },
      "file_extension": ".py",
      "mimetype": "text/x-python",
      "name": "python",
      "nbconvert_exporter": "python",
      "pygments_lexer": "ipython3",
      "version": "3.8.9"
    }
  },
  "nbformat": 4,
  "nbformat_minor": 0
}